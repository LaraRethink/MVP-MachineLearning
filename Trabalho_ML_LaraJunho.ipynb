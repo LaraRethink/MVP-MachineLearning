{
  "cells": [
    {
      "cell_type": "markdown",
      "metadata": {
        "colab_type": "text",
        "id": "view-in-github"
      },
      "source": [
        "<a href=\"https://colab.research.google.com/github/LaraRethink/MVP-MachineLearning/blob/main/Trabalho_ML_LaraJunho.ipynb\" target=\"_parent\"><img src=\"https://colab.research.google.com/assets/colab-badge.svg\" alt=\"Open In Colab\"/></a>"
      ]
    },
    {
      "cell_type": "markdown",
      "metadata": {
        "id": "otEdveLq8Hn0"
      },
      "source": [
        "## Engenharia de Sistemas de Software Inteligentes - Lara Junho Pereira Santos\n",
        "## MVP: modelo de machine learning utilizando métodos clássicos para um problema de classificação."
      ]
    },
    {
      "cell_type": "code",
      "execution_count": 1,
      "metadata": {
        "id": "RCn8CH4M7wF-"
      },
      "outputs": [],
      "source": [
        "# INFORMAÇÕES SOBRE ESSE DATASET:\n",
        "\n",
        "# Essencialmente, o conjunto de dados contém informações sobre mulheres casadas que foram entrevistadas em 1987 na Indonésia.\n",
        "# A questão central é prever qual método contraceptivo uma mulher está usando no momento da entrevista com base em suas características demográficas\n",
        "# (como idade, número de filhos) e socioeconômicas (como status educacional, ocupação, etc.).\n",
        "# Os métodos contraceptivos são categorizados em nenhum uso, métodos de longo prazo (como esterilização) e métodos de curto prazo (como pílulas anticoncepcionais).\n",
        "# O objetivo pode ser desenvolver um modelo ou algoritmo que faça essa previsão com base nos dados fornecidos.\n",
        "\n",
        "\n",
        "# configuração para não exibir os warnings\n",
        "import warnings\n",
        "warnings.filterwarnings(\"ignore\")\n",
        "\n",
        "# Imports necessários\n",
        "import pandas as pd\n",
        "import numpy as np\n",
        "import pickle\n",
        "import matplotlib.pyplot as plt\n",
        "from sklearn.preprocessing import StandardScaler\n",
        "from sklearn.preprocessing import MinMaxScaler\n",
        "from sklearn.model_selection import train_test_split\n",
        "from sklearn.model_selection import KFold\n",
        "from sklearn.model_selection import StratifiedKFold\n",
        "from sklearn.model_selection import cross_val_score\n",
        "from sklearn.model_selection import GridSearchCV\n",
        "from sklearn.metrics import accuracy_score\n",
        "from sklearn.pipeline import Pipeline\n",
        "from sklearn.tree import DecisionTreeClassifier\n",
        "from sklearn.neighbors import KNeighborsClassifier\n",
        "from sklearn.naive_bayes import GaussianNB\n",
        "from sklearn.svm import SVC\n",
        "\n",
        "\n"
      ]
    },
    {
      "cell_type": "markdown",
      "metadata": {
        "id": "2PcB0Efd-MS4"
      },
      "source": [
        "## Carga do Dataset"
      ]
    },
    {
      "cell_type": "code",
      "execution_count": 2,
      "metadata": {
        "colab": {
          "base_uri": "https://localhost:8080/",
          "height": 383
        },
        "id": "29AFuCPtvG_i",
        "outputId": "9134d2c1-61a5-4917-e68d-e0c1453258e4"
      },
      "outputs": [
        {
          "data": {
            "text/html": [
              "\n",
              "  <div id=\"df-97223513-d4e3-4072-b8d8-6d40283800b0\" class=\"colab-df-container\">\n",
              "    <div>\n",
              "<style scoped>\n",
              "    .dataframe tbody tr th:only-of-type {\n",
              "        vertical-align: middle;\n",
              "    }\n",
              "\n",
              "    .dataframe tbody tr th {\n",
              "        vertical-align: top;\n",
              "    }\n",
              "\n",
              "    .dataframe thead th {\n",
              "        text-align: right;\n",
              "    }\n",
              "</style>\n",
              "<table border=\"1\" class=\"dataframe\">\n",
              "  <thead>\n",
              "    <tr style=\"text-align: right;\">\n",
              "      <th></th>\n",
              "      <th>wifeAge</th>\n",
              "      <th>wifeEducation</th>\n",
              "      <th>husbandEducation</th>\n",
              "      <th>numberOfChildrenEverBorn</th>\n",
              "      <th>wifeReligion</th>\n",
              "      <th>wifeNowWorking</th>\n",
              "      <th>HusbandOcupation</th>\n",
              "      <th>StandardOfLivingIndex</th>\n",
              "      <th>MediaExposure</th>\n",
              "      <th>ContraceptiveMethodUsed</th>\n",
              "    </tr>\n",
              "  </thead>\n",
              "  <tbody>\n",
              "    <tr>\n",
              "      <th>0</th>\n",
              "      <td>24</td>\n",
              "      <td>2</td>\n",
              "      <td>3</td>\n",
              "      <td>3</td>\n",
              "      <td>1</td>\n",
              "      <td>1</td>\n",
              "      <td>2</td>\n",
              "      <td>3</td>\n",
              "      <td>0</td>\n",
              "      <td>1</td>\n",
              "    </tr>\n",
              "    <tr>\n",
              "      <th>1</th>\n",
              "      <td>45</td>\n",
              "      <td>1</td>\n",
              "      <td>3</td>\n",
              "      <td>10</td>\n",
              "      <td>1</td>\n",
              "      <td>1</td>\n",
              "      <td>3</td>\n",
              "      <td>4</td>\n",
              "      <td>0</td>\n",
              "      <td>1</td>\n",
              "    </tr>\n",
              "    <tr>\n",
              "      <th>2</th>\n",
              "      <td>43</td>\n",
              "      <td>2</td>\n",
              "      <td>3</td>\n",
              "      <td>7</td>\n",
              "      <td>1</td>\n",
              "      <td>1</td>\n",
              "      <td>3</td>\n",
              "      <td>4</td>\n",
              "      <td>0</td>\n",
              "      <td>1</td>\n",
              "    </tr>\n",
              "    <tr>\n",
              "      <th>3</th>\n",
              "      <td>42</td>\n",
              "      <td>3</td>\n",
              "      <td>2</td>\n",
              "      <td>9</td>\n",
              "      <td>1</td>\n",
              "      <td>1</td>\n",
              "      <td>3</td>\n",
              "      <td>3</td>\n",
              "      <td>0</td>\n",
              "      <td>1</td>\n",
              "    </tr>\n",
              "    <tr>\n",
              "      <th>4</th>\n",
              "      <td>36</td>\n",
              "      <td>3</td>\n",
              "      <td>3</td>\n",
              "      <td>8</td>\n",
              "      <td>1</td>\n",
              "      <td>1</td>\n",
              "      <td>3</td>\n",
              "      <td>2</td>\n",
              "      <td>0</td>\n",
              "      <td>1</td>\n",
              "    </tr>\n",
              "    <tr>\n",
              "      <th>5</th>\n",
              "      <td>19</td>\n",
              "      <td>4</td>\n",
              "      <td>4</td>\n",
              "      <td>0</td>\n",
              "      <td>1</td>\n",
              "      <td>1</td>\n",
              "      <td>3</td>\n",
              "      <td>3</td>\n",
              "      <td>0</td>\n",
              "      <td>1</td>\n",
              "    </tr>\n",
              "    <tr>\n",
              "      <th>6</th>\n",
              "      <td>38</td>\n",
              "      <td>2</td>\n",
              "      <td>3</td>\n",
              "      <td>6</td>\n",
              "      <td>1</td>\n",
              "      <td>1</td>\n",
              "      <td>3</td>\n",
              "      <td>2</td>\n",
              "      <td>0</td>\n",
              "      <td>1</td>\n",
              "    </tr>\n",
              "    <tr>\n",
              "      <th>7</th>\n",
              "      <td>21</td>\n",
              "      <td>3</td>\n",
              "      <td>3</td>\n",
              "      <td>1</td>\n",
              "      <td>1</td>\n",
              "      <td>0</td>\n",
              "      <td>3</td>\n",
              "      <td>2</td>\n",
              "      <td>0</td>\n",
              "      <td>1</td>\n",
              "    </tr>\n",
              "    <tr>\n",
              "      <th>8</th>\n",
              "      <td>27</td>\n",
              "      <td>2</td>\n",
              "      <td>3</td>\n",
              "      <td>3</td>\n",
              "      <td>1</td>\n",
              "      <td>1</td>\n",
              "      <td>3</td>\n",
              "      <td>4</td>\n",
              "      <td>0</td>\n",
              "      <td>1</td>\n",
              "    </tr>\n",
              "    <tr>\n",
              "      <th>9</th>\n",
              "      <td>45</td>\n",
              "      <td>1</td>\n",
              "      <td>1</td>\n",
              "      <td>8</td>\n",
              "      <td>1</td>\n",
              "      <td>1</td>\n",
              "      <td>2</td>\n",
              "      <td>2</td>\n",
              "      <td>1</td>\n",
              "      <td>1</td>\n",
              "    </tr>\n",
              "  </tbody>\n",
              "</table>\n",
              "</div>\n",
              "    <div class=\"colab-df-buttons\">\n",
              "\n",
              "  <div class=\"colab-df-container\">\n",
              "    <button class=\"colab-df-convert\" onclick=\"convertToInteractive('df-97223513-d4e3-4072-b8d8-6d40283800b0')\"\n",
              "            title=\"Convert this dataframe to an interactive table.\"\n",
              "            style=\"display:none;\">\n",
              "\n",
              "  <svg xmlns=\"http://www.w3.org/2000/svg\" height=\"24px\" viewBox=\"0 -960 960 960\">\n",
              "    <path d=\"M120-120v-720h720v720H120Zm60-500h600v-160H180v160Zm220 220h160v-160H400v160Zm0 220h160v-160H400v160ZM180-400h160v-160H180v160Zm440 0h160v-160H620v160ZM180-180h160v-160H180v160Zm440 0h160v-160H620v160Z\"/>\n",
              "  </svg>\n",
              "    </button>\n",
              "\n",
              "  <style>\n",
              "    .colab-df-container {\n",
              "      display:flex;\n",
              "      gap: 12px;\n",
              "    }\n",
              "\n",
              "    .colab-df-convert {\n",
              "      background-color: #E8F0FE;\n",
              "      border: none;\n",
              "      border-radius: 50%;\n",
              "      cursor: pointer;\n",
              "      display: none;\n",
              "      fill: #1967D2;\n",
              "      height: 32px;\n",
              "      padding: 0 0 0 0;\n",
              "      width: 32px;\n",
              "    }\n",
              "\n",
              "    .colab-df-convert:hover {\n",
              "      background-color: #E2EBFA;\n",
              "      box-shadow: 0px 1px 2px rgba(60, 64, 67, 0.3), 0px 1px 3px 1px rgba(60, 64, 67, 0.15);\n",
              "      fill: #174EA6;\n",
              "    }\n",
              "\n",
              "    .colab-df-buttons div {\n",
              "      margin-bottom: 4px;\n",
              "    }\n",
              "\n",
              "    [theme=dark] .colab-df-convert {\n",
              "      background-color: #3B4455;\n",
              "      fill: #D2E3FC;\n",
              "    }\n",
              "\n",
              "    [theme=dark] .colab-df-convert:hover {\n",
              "      background-color: #434B5C;\n",
              "      box-shadow: 0px 1px 3px 1px rgba(0, 0, 0, 0.15);\n",
              "      filter: drop-shadow(0px 1px 2px rgba(0, 0, 0, 0.3));\n",
              "      fill: #FFFFFF;\n",
              "    }\n",
              "  </style>\n",
              "\n",
              "    <script>\n",
              "      const buttonEl =\n",
              "        document.querySelector('#df-97223513-d4e3-4072-b8d8-6d40283800b0 button.colab-df-convert');\n",
              "      buttonEl.style.display =\n",
              "        google.colab.kernel.accessAllowed ? 'block' : 'none';\n",
              "\n",
              "      async function convertToInteractive(key) {\n",
              "        const element = document.querySelector('#df-97223513-d4e3-4072-b8d8-6d40283800b0');\n",
              "        const dataTable =\n",
              "          await google.colab.kernel.invokeFunction('convertToInteractive',\n",
              "                                                    [key], {});\n",
              "        if (!dataTable) return;\n",
              "\n",
              "        const docLinkHtml = 'Like what you see? Visit the ' +\n",
              "          '<a target=\"_blank\" href=https://colab.research.google.com/notebooks/data_table.ipynb>data table notebook</a>'\n",
              "          + ' to learn more about interactive tables.';\n",
              "        element.innerHTML = '';\n",
              "        dataTable['output_type'] = 'display_data';\n",
              "        await google.colab.output.renderOutput(dataTable, element);\n",
              "        const docLink = document.createElement('div');\n",
              "        docLink.innerHTML = docLinkHtml;\n",
              "        element.appendChild(docLink);\n",
              "      }\n",
              "    </script>\n",
              "  </div>\n",
              "\n",
              "\n",
              "<div id=\"df-8ae8ce85-429e-4431-a4c7-7f1e44c37ef7\">\n",
              "  <button class=\"colab-df-quickchart\" onclick=\"quickchart('df-8ae8ce85-429e-4431-a4c7-7f1e44c37ef7')\"\n",
              "            title=\"Suggest charts\"\n",
              "            style=\"display:none;\">\n",
              "\n",
              "<svg xmlns=\"http://www.w3.org/2000/svg\" height=\"24px\"viewBox=\"0 0 24 24\"\n",
              "     width=\"24px\">\n",
              "    <g>\n",
              "        <path d=\"M19 3H5c-1.1 0-2 .9-2 2v14c0 1.1.9 2 2 2h14c1.1 0 2-.9 2-2V5c0-1.1-.9-2-2-2zM9 17H7v-7h2v7zm4 0h-2V7h2v10zm4 0h-2v-4h2v4z\"/>\n",
              "    </g>\n",
              "</svg>\n",
              "  </button>\n",
              "\n",
              "<style>\n",
              "  .colab-df-quickchart {\n",
              "      --bg-color: #E8F0FE;\n",
              "      --fill-color: #1967D2;\n",
              "      --hover-bg-color: #E2EBFA;\n",
              "      --hover-fill-color: #174EA6;\n",
              "      --disabled-fill-color: #AAA;\n",
              "      --disabled-bg-color: #DDD;\n",
              "  }\n",
              "\n",
              "  [theme=dark] .colab-df-quickchart {\n",
              "      --bg-color: #3B4455;\n",
              "      --fill-color: #D2E3FC;\n",
              "      --hover-bg-color: #434B5C;\n",
              "      --hover-fill-color: #FFFFFF;\n",
              "      --disabled-bg-color: #3B4455;\n",
              "      --disabled-fill-color: #666;\n",
              "  }\n",
              "\n",
              "  .colab-df-quickchart {\n",
              "    background-color: var(--bg-color);\n",
              "    border: none;\n",
              "    border-radius: 50%;\n",
              "    cursor: pointer;\n",
              "    display: none;\n",
              "    fill: var(--fill-color);\n",
              "    height: 32px;\n",
              "    padding: 0;\n",
              "    width: 32px;\n",
              "  }\n",
              "\n",
              "  .colab-df-quickchart:hover {\n",
              "    background-color: var(--hover-bg-color);\n",
              "    box-shadow: 0 1px 2px rgba(60, 64, 67, 0.3), 0 1px 3px 1px rgba(60, 64, 67, 0.15);\n",
              "    fill: var(--button-hover-fill-color);\n",
              "  }\n",
              "\n",
              "  .colab-df-quickchart-complete:disabled,\n",
              "  .colab-df-quickchart-complete:disabled:hover {\n",
              "    background-color: var(--disabled-bg-color);\n",
              "    fill: var(--disabled-fill-color);\n",
              "    box-shadow: none;\n",
              "  }\n",
              "\n",
              "  .colab-df-spinner {\n",
              "    border: 2px solid var(--fill-color);\n",
              "    border-color: transparent;\n",
              "    border-bottom-color: var(--fill-color);\n",
              "    animation:\n",
              "      spin 1s steps(1) infinite;\n",
              "  }\n",
              "\n",
              "  @keyframes spin {\n",
              "    0% {\n",
              "      border-color: transparent;\n",
              "      border-bottom-color: var(--fill-color);\n",
              "      border-left-color: var(--fill-color);\n",
              "    }\n",
              "    20% {\n",
              "      border-color: transparent;\n",
              "      border-left-color: var(--fill-color);\n",
              "      border-top-color: var(--fill-color);\n",
              "    }\n",
              "    30% {\n",
              "      border-color: transparent;\n",
              "      border-left-color: var(--fill-color);\n",
              "      border-top-color: var(--fill-color);\n",
              "      border-right-color: var(--fill-color);\n",
              "    }\n",
              "    40% {\n",
              "      border-color: transparent;\n",
              "      border-right-color: var(--fill-color);\n",
              "      border-top-color: var(--fill-color);\n",
              "    }\n",
              "    60% {\n",
              "      border-color: transparent;\n",
              "      border-right-color: var(--fill-color);\n",
              "    }\n",
              "    80% {\n",
              "      border-color: transparent;\n",
              "      border-right-color: var(--fill-color);\n",
              "      border-bottom-color: var(--fill-color);\n",
              "    }\n",
              "    90% {\n",
              "      border-color: transparent;\n",
              "      border-bottom-color: var(--fill-color);\n",
              "    }\n",
              "  }\n",
              "</style>\n",
              "\n",
              "  <script>\n",
              "    async function quickchart(key) {\n",
              "      const quickchartButtonEl =\n",
              "        document.querySelector('#' + key + ' button');\n",
              "      quickchartButtonEl.disabled = true;  // To prevent multiple clicks.\n",
              "      quickchartButtonEl.classList.add('colab-df-spinner');\n",
              "      try {\n",
              "        const charts = await google.colab.kernel.invokeFunction(\n",
              "            'suggestCharts', [key], {});\n",
              "      } catch (error) {\n",
              "        console.error('Error during call to suggestCharts:', error);\n",
              "      }\n",
              "      quickchartButtonEl.classList.remove('colab-df-spinner');\n",
              "      quickchartButtonEl.classList.add('colab-df-quickchart-complete');\n",
              "    }\n",
              "    (() => {\n",
              "      let quickchartButtonEl =\n",
              "        document.querySelector('#df-8ae8ce85-429e-4431-a4c7-7f1e44c37ef7 button');\n",
              "      quickchartButtonEl.style.display =\n",
              "        google.colab.kernel.accessAllowed ? 'block' : 'none';\n",
              "    })();\n",
              "  </script>\n",
              "</div>\n",
              "    </div>\n",
              "  </div>\n"
            ],
            "text/plain": [
              "   wifeAge   wifeEducation   husbandEducation   numberOfChildrenEverBorn  \\\n",
              "0       24               2                  3                          3   \n",
              "1       45               1                  3                         10   \n",
              "2       43               2                  3                          7   \n",
              "3       42               3                  2                          9   \n",
              "4       36               3                  3                          8   \n",
              "5       19               4                  4                          0   \n",
              "6       38               2                  3                          6   \n",
              "7       21               3                  3                          1   \n",
              "8       27               2                  3                          3   \n",
              "9       45               1                  1                          8   \n",
              "\n",
              "    wifeReligion   wifeNowWorking   HusbandOcupation   StandardOfLivingIndex  \\\n",
              "0              1                1                  2                       3   \n",
              "1              1                1                  3                       4   \n",
              "2              1                1                  3                       4   \n",
              "3              1                1                  3                       3   \n",
              "4              1                1                  3                       2   \n",
              "5              1                1                  3                       3   \n",
              "6              1                1                  3                       2   \n",
              "7              1                0                  3                       2   \n",
              "8              1                1                  3                       4   \n",
              "9              1                1                  2                       2   \n",
              "\n",
              "    MediaExposure   ContraceptiveMethodUsed  \n",
              "0               0                         1  \n",
              "1               0                         1  \n",
              "2               0                         1  \n",
              "3               0                         1  \n",
              "4               0                         1  \n",
              "5               0                         1  \n",
              "6               0                         1  \n",
              "7               0                         1  \n",
              "8               0                         1  \n",
              "9               1                         1  "
            ]
          },
          "execution_count": 2,
          "metadata": {},
          "output_type": "execute_result"
        }
      ],
      "source": [
        "# Informa a URL de importação do dataset\n",
        "url = \"https://raw.githubusercontent.com/LaraRethink/MVP-MachineLearning/main/cmc.csv\"\n",
        "\n",
        "# Lê o arquivo\n",
        "dataset = pd.read_csv(url, delimiter=',')\n",
        "\n",
        "# Mostra as primeiras linhas do dataset\n",
        "dataset.head(10)\n",
        "\n",
        "# Informação/legenda dos dados:\n",
        "# 1. Wife's age                     (numerical)\n",
        "# 2. Wife's education               (categorical)      1=low, 2, 3, 4=high\n",
        "# 3. Husband's education            (categorical)      1=low, 2, 3, 4=high\n",
        "# 4. Number of children ever born   (numerical)\n",
        "# 5. Wife's religion                (binary)           0=Non-Islam, 1=Islam\n",
        "# 6. Wife's now working?            (binary)           0=Yes, 1=No\n",
        "# 7. Husband's occupation           (categorical)      1, 2, 3, 4\n",
        "# 8. Standard-of-living index       (categorical)      1=low, 2, 3, 4=high\n",
        "# 9. Media exposure                 (binary)           0=Good, 1=Not good\n",
        "# 10. Contraceptive method used     (class attribute)  1=No-use  2=Long-term  3=Short-term\n",
        "\n",
        "\n"
      ]
    },
    {
      "cell_type": "markdown",
      "metadata": {
        "id": "mE4-PIaTAfKX"
      },
      "source": [
        "## Separação em conjunto de treino e conjunto de teste com holdout"
      ]
    },
    {
      "cell_type": "code",
      "execution_count": 3,
      "metadata": {
        "id": "fEiAm3LEAfPt"
      },
      "outputs": [],
      "source": [
        "test_size = 0.30 # tamanho do conjunto de teste : Aqui, está sendo definido o tamanho do conjunto de teste. O valor 0.30 indica que 30% dos dados serão utilizados como conjunto de teste, enquanto 70% serão destinados ao conjunto de treino.\n",
        "seed = 7 #  A semente aleatória é uma especificação numérica que garante a reprodutibilidade dos resultados. Ao utilizar a mesma semente, os resultados obtidos em cada execução serão os mesmos, desde que as condições iniciais sejam as mesmas.\n",
        "\n",
        "# Separação em conjuntos de treino e teste (holdout)\n",
        "array = dataset.values\n",
        "X = array[:,0:9] # Separa as características (features) do conjunto de dados. Aqui, assume-se que as colunas de 0 a 8 (0:9) contêm as características.\n",
        "y = array[:,9] # Separa a variável alvo do conjunto de dados. Assume-se que a coluna 9 contém os rótulos ou valores que estamos tentando prever.\n",
        "X_train, X_test, y_train, y_test = train_test_split(X, y,\n",
        "    test_size=test_size, shuffle=True, random_state=seed, stratify=y) # holdout com estratificação\n",
        "\n",
        "# Parâmetros e partições da validação cruzada\n",
        "scoring = 'accuracy' # Define a métrica de avaliação como a acurácia. A acurácia mede a proporção de predições corretas em relação ao total.\n",
        "num_particoes = 10 # Define o número de partições para a validação cruzada. No caso, serão criadas 10 partições.\n",
        "kfold = StratifiedKFold(n_splits=num_particoes, shuffle=True, random_state=seed) # validação cruzada com estratificação"
      ]
    },
    {
      "cell_type": "markdown",
      "metadata": {
        "id": "f2OGe0DtAfU4"
      },
      "source": [
        "## Modelagem e Inferência"
      ]
    },
    {
      "cell_type": "markdown",
      "metadata": {
        "id": "pwHzQpbX9QQh"
      },
      "source": [
        "### Criação e avaliação de modelos: linha base"
      ]
    },
    {
      "cell_type": "code",
      "execution_count": 4,
      "metadata": {
        "colab": {
          "base_uri": "https://localhost:8080/",
          "height": 847
        },
        "id": "eAhfSnnIAfke",
        "outputId": "3dc6f160-889c-45b5-94c1-339ddc103cf4"
      },
      "outputs": [
        {
          "name": "stdout",
          "output_type": "stream",
          "text": [
            "KNN: 0.512089 (0.031500)\n",
            "CART: 0.470454 (0.055916)\n",
            "NB: 0.469417 (0.035675)\n",
            "SVM: 0.524795 (0.031418)\n"
          ]
        },
        {
          "data": {
            "image/png": "[encoded data removed]",
            "text/plain": [
              "<Figure size 1500x1000 with 1 Axes>"
            ]
          },
          "metadata": {},
          "output_type": "display_data"
        }
      ],
      "source": [
        "np.random.seed(7) # definindo uma semente global\n",
        "\n",
        "# Lista que armazenará os modelos\n",
        "models = []\n",
        "\n",
        "# Criando os modelos e adicionando-os na lista de modelos\n",
        "models.append(('KNN', KNeighborsClassifier()))\n",
        "models.append(('CART', DecisionTreeClassifier()))\n",
        "models.append(('NB', GaussianNB()))\n",
        "models.append(('SVM', SVC()))\n",
        "\n",
        "# Listas para armazenar os resultados\n",
        "results = []\n",
        "names = []\n",
        "\n",
        "# Avaliação dos modelos\n",
        "for name, model in models:\n",
        "    cv_results = cross_val_score(model, X_train, y_train, cv=kfold, scoring=scoring)\n",
        "    results.append(cv_results)\n",
        "    names.append(name)\n",
        "    msg = \"%s: %f (%f)\" % (name, cv_results.mean(), cv_results.std())\n",
        "    print(msg)\n",
        "\n",
        "# Boxplot de comparação dos modelos\n",
        "fig = plt.figure(figsize=(15,10))\n",
        "fig.suptitle('Comparação dos Modelos')\n",
        "ax = fig.add_subplot(111)\n",
        "plt.boxplot(results)\n",
        "ax.set_xticklabels(names)\n",
        "plt.show()\n",
        "\n",
        "# Neste resultado, cada linha representa um modelo, e os valores apresentados são a média e o desvio padrão da acurácia obtida através da validação cruzada.\n",
        "# O modelo SVM obteve a maior acurácia média, seguido por KNN, CART e NB.\n",
        "# O desvio padrão fornece uma medida da variabilidade dos resultados durante a validação cruzada."
      ]
    },
    {
      "cell_type": "markdown",
      "metadata": {
        "id": "olo7SPk2BvvW"
      },
      "source": [
        "### Criação e avaliação de modelos: dados padronizados e normalizados"
      ]
    },
    {
      "cell_type": "code",
      "execution_count": 5,
      "metadata": {
        "colab": {
          "base_uri": "https://localhost:8080/",
          "height": 550
        },
        "id": "hmQbiYQdBRDW",
        "outputId": "a785aa4f-450e-4afe-ac55-34d06a0a94b3"
      },
      "outputs": [
        {
          "name": "stdout",
          "output_type": "stream",
          "text": [
            "KNN-orig: 0.512 (0.031)\n",
            "CART-orig: 0.470 (0.056)\n",
            "NB-orig: 0.469 (0.036)\n",
            "SVM-orig: 0.525 (0.031)\n",
            "KNN-padr: 0.481 (0.044)\n",
            "CART-padr: 0.474 (0.042)\n",
            "NB-padr: 0.469 (0.036)\n",
            "SVM-padr: 0.555 (0.041)\n",
            "KNN-norm: 0.446 (0.034)\n",
            "CART-norm: 0.470 (0.047)\n",
            "NB-norm: 0.469 (0.036)\n",
            "SVM-norm: 0.527 (0.037)\n"
          ]
        },
        {
          "data": {
            "image/png": "[encoded data removed]",
            "text/plain": [
              "<Figure size 2500x600 with 1 Axes>"
            ]
          },
          "metadata": {},
          "output_type": "display_data"
        }
      ],
      "source": [
        "np.random.seed(7) # definindo uma semente global para este bloco\n",
        "\n",
        "# Listas para armazenar os armazenar os pipelines e os resultados para todas as visões do dataset\n",
        "pipelines = []\n",
        "results = []\n",
        "names = []\n",
        "\n",
        "\n",
        "# Criando os elementos do pipeline\n",
        "\n",
        "# Algoritmos que serão utilizados\n",
        "knn = ('KNN', KNeighborsClassifier())\n",
        "cart = ('CART', DecisionTreeClassifier())\n",
        "naive_bayes = ('NB', GaussianNB())\n",
        "svm = ('SVM', SVC())\n",
        "\n",
        "# Transformações que serão utilizadas\n",
        "standard_scaler = ('StandardScaler', StandardScaler())\n",
        "min_max_scaler = ('MinMaxScaler', MinMaxScaler())\n",
        "\n",
        "\n",
        "# Montando os pipelines\n",
        "\n",
        "# Dataset original\n",
        "pipelines.append(('KNN-orig', Pipeline([knn])))\n",
        "pipelines.append(('CART-orig', Pipeline([cart])))\n",
        "pipelines.append(('NB-orig', Pipeline([naive_bayes])))\n",
        "pipelines.append(('SVM-orig', Pipeline([svm])))\n",
        "\n",
        "# Dataset Padronizado\n",
        "pipelines.append(('KNN-padr', Pipeline([standard_scaler, knn])))\n",
        "pipelines.append(('CART-padr', Pipeline([standard_scaler, cart])))\n",
        "pipelines.append(('NB-padr', Pipeline([standard_scaler, naive_bayes])))\n",
        "pipelines.append(('SVM-padr', Pipeline([standard_scaler, svm])))\n",
        "\n",
        "# Dataset Normalizado\n",
        "pipelines.append(('KNN-norm', Pipeline([min_max_scaler, knn])))\n",
        "pipelines.append(('CART-norm', Pipeline([min_max_scaler, cart])))\n",
        "pipelines.append(('NB-norm', Pipeline([min_max_scaler, naive_bayes])))\n",
        "pipelines.append(('SVM-norm', Pipeline([min_max_scaler, svm])))\n",
        "\n",
        "# Executando os pipelines\n",
        "\n",
        "# O código usa um loop for name, model in pipelines para iterar sobre cada pipeline,\n",
        "# executando a validação cruzada e armazenando os resultados na lista results e os nomes na lista names.\n",
        "for name, model in pipelines:\n",
        "    cv_results = cross_val_score(model, X_train, y_train, cv=kfold, scoring=scoring)\n",
        "    results.append(cv_results)\n",
        "    names.append(name)\n",
        "    msg = \"%s: %.3f (%.3f)\" % (name, cv_results.mean(), cv_results.std()) # formatando para 3 casas decimais\n",
        "    print(msg)\n",
        "\n",
        "# Boxplot de comparação dos modelos\n",
        "fig = plt.figure(figsize=(25,6))\n",
        "fig.suptitle('Comparação dos Modelos - Dataset orginal, padronizado e normalizado')\n",
        "ax = fig.add_subplot(111)\n",
        "plt.boxplot(results)\n",
        "ax.set_xticklabels(names, rotation=90)\n",
        "plt.show()\n",
        "\n",
        "# Os resultados da avaliação dos modelos utilizando diferentes configurações de dados (original, padronizado e normalizado) são apresentados a seguir:\n",
        "\n",
        "# KNN-orig: O modelo KNN aplicado ao conjunto de dados original obteve uma acurácia média de 0.512, com um desvio padrão de 0.031. Isso sugere uma consistência razoável no desempenho do modelo em diferentes divisões dos dados de treino e teste.\n",
        "\n",
        "# CART-orig: O modelo de árvore de decisão aplicado ao conjunto de dados original apresentou uma acurácia média de 0.470, com um desvio padrão mais elevado de 0.056. Isso indica uma variabilidade maior nos resultados, possivelmente devido à sensibilidade do modelo às diferentes partições dos dados.\n",
        "\n",
        "# NB-orig: O modelo Naive Bayes aplicado ao conjunto de dados original teve uma acurácia média de 0.469, com um desvio padrão de 0.036. O desvio padrão relativamente baixo sugere uma consistência razoável no desempenho do modelo.\n",
        "\n",
        "# SVM-orig: O modelo de Support Vector Machine aplicado ao conjunto de dados original destacou-se com uma acurácia média de 0.525 e um desvio padrão de 0.031. Isso sugere uma estabilidade notável no desempenho do SVM em diferentes divisões dos dados.\n",
        "\n",
        "# KNN-padr: Ao padronizar os dados antes de aplicar o KNN, a acurácia média foi de 0.481, com um desvio padrão de 0.044. A padronização não teve um impacto significativo na performance em comparação com o KNN aplicado aos dados originais.\n",
        "\n",
        "# CART-padr: A padronização dos dados antes de aplicar a árvore de decisão resultou em uma acurácia média de 0.474, com um desvio padrão de 0.042. Similar ao KNN, a padronização não gerou uma mudança substancial no desempenho.\n",
        "\n",
        "# NB-padr: O Naive Bayes aplicado a dados padronizados manteve uma acurácia média de 0.469, com um desvio padrão de 0.036, indicando consistência semelhante ao modelo aplicado aos dados originais.\n",
        "\n",
        "# SVM-padr: A aplicação do SVM a dados padronizados resultou em uma acurácia média significativamente maior de 0.555, com um desvio padrão de 0.041. A padronização parece ter beneficiado o desempenho do SVM.\n",
        "\n",
        "# KNN-norm: A normalização dos dados antes de aplicar o KNN levou a uma acurácia média de 0.446, com um desvio padrão de 0.034. A normalização teve um impacto negativo no desempenho do KNN em comparação com as outras configurações.\n",
        "\n",
        "# CART-norm: A normalização dos dados antes de aplicar a árvore de decisão resultou em uma acurácia média de 0.470, com um desvio padrão de 0.047. Similar ao KNN-norm, a normalização não contribuiu positivamente para o desempenho.\n",
        "\n",
        "# NB-norm: O Naive Bayes aplicado a dados normalizados manteve uma acurácia média de 0.469, com um desvio padrão de 0.036, indicando consistência semelhante ao modelo aplicado aos dados originais e padronizados.\n",
        "\n",
        "# SVM-norm: A aplicação do SVM a dados normalizados resultou em uma acurácia média de 0.527, com um desvio padrão de 0.037. A normalização parece ter beneficiado o desempenho do SVM, embora não tanto quanto a padronização.\n",
        "\n"
      ]
    },
    {
      "cell_type": "markdown",
      "metadata": {
        "id": "f-f2vCU5CMmp"
      },
      "source": [
        "### Otimização dos hiperparâmetros"
      ]
    },
    {
      "cell_type": "code",
      "execution_count": 6,
      "metadata": {
        "colab": {
          "base_uri": "https://localhost:8080/"
        },
        "id": "jBSDgpXNt1Fp",
        "outputId": "fc9ec3a4-f293-4c91-828f-6f2582282e9f"
      },
      "outputs": [
        {
          "name": "stdout",
          "output_type": "stream",
          "text": [
            "Modelo: svm-orig - Melhor: 0.542280 usando {'SVM__C': 10, 'SVM__gamma': 'scale', 'SVM__kernel': 'rbf'}\n",
            "Modelo: svm-padr - Melhor: 0.554817 usando {'SVM__C': 1, 'SVM__gamma': 'scale', 'SVM__kernel': 'rbf'}\n",
            "Modelo: svm-norm - Melhor: 0.526680 usando {'SVM__C': 1, 'SVM__gamma': 'scale', 'SVM__kernel': 'rbf'}\n"
          ]
        }
      ],
      "source": [
        "\n",
        "\n",
        "np.random.seed(7) # definindo uma semente global para este bloco\n",
        "\n",
        "pipelines = []\n",
        "\n",
        "# Definindo os componentes do pipeline\n",
        "svm = ('SVM', SVC())\n",
        "standard_scaler = ('StandardScaler', StandardScaler())\n",
        "min_max_scaler = ('MinMaxScaler', MinMaxScaler())\n",
        "\n",
        "pipelines = [\n",
        "    ('svm-orig', Pipeline(steps=[svm])),\n",
        "    ('svm-padr', Pipeline(steps=[standard_scaler, svm])),\n",
        "    ('svm-norm', Pipeline(steps=[min_max_scaler, svm])),\n",
        "]\n",
        "\n",
        "# Definindo o espaço de busca para os hiperparâmetros\n",
        "# Define o espaço de busca para os hiperparâmetros do SVM.\n",
        "# Aqui, os valores de C estão reduzidos para [1, 10], os kernels estão limitados a ['linear', 'rbf'], e somente um valor para gamma ('scale') é considerado.\n",
        "\n",
        "param_grid = {\n",
        "    'SVM__C': [1, 10],  # Reduzindo os valores de C\n",
        "    'SVM__kernel': ['linear', 'rbf'],  # Reduzindo os kernels\n",
        "    'SVM__gamma': ['scale']  # Mantendo apenas um valor para gamma\n",
        "}\n",
        "\n",
        "# Preparando e executando o GridSearchCV para encontrar os melhores hiperparâmetros para cada configuração do SVM\n",
        "for name, model in pipelines:\n",
        "    grid = GridSearchCV(estimator=model, param_grid=param_grid, scoring=scoring, cv=kfold)\n",
        "    grid.fit(X_train, y_train)\n",
        "    # Imprime a melhor configuração\n",
        "    print(\"Modelo: %s - Melhor: %f usando %s\" % (name, grid.best_score_, grid.best_params_))\n",
        "\n",
        "# Considerando a métrica de acurácia como critério de escolha, o modelo svm-padr obteve a melhor performance entre as três configurações.\n",
        "# Este é o modelo que demonstrou a melhor capacidade de generalização para o conjunto de dados de validação."
      ]
    },
    {
      "cell_type": "markdown",
      "metadata": {
        "id": "cuUpaYcwDRDt"
      },
      "source": [
        "## Finalização do Modelo"
      ]
    },
    {
      "cell_type": "code",
      "execution_count": 7,
      "metadata": {
        "colab": {
          "base_uri": "https://localhost:8080/"
        },
        "id": "lbrFxAbSDVIj",
        "outputId": "5fdc4eee-a3b7-4290-c6f6-2ca0c2799167"
      },
      "outputs": [
        {
          "name": "stdout",
          "output_type": "stream",
          "text": [
            "0.5452488687782805\n"
          ]
        }
      ],
      "source": [
        "# Avaliação do modelo com o conjunto de testes\n",
        "\n",
        "# Preparação do modelo\n",
        "# Um objeto StandardScaler é criado e ajustado ao conjunto de treinamento (X_train).\n",
        "# O ajuste do scaler calcula a média e o desvio padrão do conjunto de treinamento, que serão usados para padronizar os dados.\n",
        "\n",
        "scaler = StandardScaler().fit(X_train) # ajuste do scaler com o conjunto de treino\n",
        "\n",
        "#  O conjunto de treinamento é padronizado usando o scaler ajustado.\n",
        "# Isso significa subtrair a média e dividir pelo desvio padrão para garantir que os dados estejam centrados e com escala apropriada.\n",
        "\n",
        "rescaledX = scaler.transform(X_train) # aplicação da padronização no conjunto de treino\n",
        "model = SVC(C=1, kernel='rbf', gamma='scale')\n",
        "\n",
        "# O modelo KNN é treinado com os dados padronizados (rescaledX) e os rótulos de treinamento (y_train).\n",
        "\n",
        "model.fit(rescaledX, y_train)\n",
        "\n",
        "# Estimativa da acurácia no conjunto de teste\n",
        "rescaledTestX = scaler.transform(X_test) # aplicação da padronização no conjunto de teste\n",
        "predictions = model.predict(rescaledTestX)\n",
        "print(accuracy_score(y_test, predictions))\n",
        "\n",
        "\n"
      ]
    },
    {
      "cell_type": "code",
      "execution_count": 11,
      "metadata": {
        "colab": {
          "base_uri": "https://localhost:8080/",
          "height": 75
        },
        "id": "iGeQHmeg4ziu",
        "outputId": "973ebc7e-756a-4345-9ee7-190537b1b85e"
      },
      "outputs": [
        {
          "data": {
            "text/html": [
              "<style>#sk-container-id-2 {color: black;background-color: white;}#sk-container-id-2 pre{padding: 0;}#sk-container-id-2 div.sk-toggleable {background-color: white;}#sk-container-id-2 label.sk-toggleable__label {cursor: pointer;display: block;width: 100%;margin-bottom: 0;padding: 0.3em;box-sizing: border-box;text-align: center;}#sk-container-id-2 label.sk-toggleable__label-arrow:before {content: \"▸\";float: left;margin-right: 0.25em;color: #696969;}#sk-container-id-2 label.sk-toggleable__label-arrow:hover:before {color: black;}#sk-container-id-2 div.sk-estimator:hover label.sk-toggleable__label-arrow:before {color: black;}#sk-container-id-2 div.sk-toggleable__content {max-height: 0;max-width: 0;overflow: hidden;text-align: left;background-color: #f0f8ff;}#sk-container-id-2 div.sk-toggleable__content pre {margin: 0.2em;color: black;border-radius: 0.25em;background-color: #f0f8ff;}#sk-container-id-2 input.sk-toggleable__control:checked~div.sk-toggleable__content {max-height: 200px;max-width: 100%;overflow: auto;}#sk-container-id-2 input.sk-toggleable__control:checked~label.sk-toggleable__label-arrow:before {content: \"▾\";}#sk-container-id-2 div.sk-estimator input.sk-toggleable__control:checked~label.sk-toggleable__label {background-color: #d4ebff;}#sk-container-id-2 div.sk-label input.sk-toggleable__control:checked~label.sk-toggleable__label {background-color: #d4ebff;}#sk-container-id-2 input.sk-hidden--visually {border: 0;clip: rect(1px 1px 1px 1px);clip: rect(1px, 1px, 1px, 1px);height: 1px;margin: -1px;overflow: hidden;padding: 0;position: absolute;width: 1px;}#sk-container-id-2 div.sk-estimator {font-family: monospace;background-color: #f0f8ff;border: 1px dotted black;border-radius: 0.25em;box-sizing: border-box;margin-bottom: 0.5em;}#sk-container-id-2 div.sk-estimator:hover {background-color: #d4ebff;}#sk-container-id-2 div.sk-parallel-item::after {content: \"\";width: 100%;border-bottom: 1px solid gray;flex-grow: 1;}#sk-container-id-2 div.sk-label:hover label.sk-toggleable__label {background-color: #d4ebff;}#sk-container-id-2 div.sk-serial::before {content: \"\";position: absolute;border-left: 1px solid gray;box-sizing: border-box;top: 0;bottom: 0;left: 50%;z-index: 0;}#sk-container-id-2 div.sk-serial {display: flex;flex-direction: column;align-items: center;background-color: white;padding-right: 0.2em;padding-left: 0.2em;position: relative;}#sk-container-id-2 div.sk-item {position: relative;z-index: 1;}#sk-container-id-2 div.sk-parallel {display: flex;align-items: stretch;justify-content: center;background-color: white;position: relative;}#sk-container-id-2 div.sk-item::before, #sk-container-id-2 div.sk-parallel-item::before {content: \"\";position: absolute;border-left: 1px solid gray;box-sizing: border-box;top: 0;bottom: 0;left: 50%;z-index: -1;}#sk-container-id-2 div.sk-parallel-item {display: flex;flex-direction: column;z-index: 1;position: relative;background-color: white;}#sk-container-id-2 div.sk-parallel-item:first-child::after {align-self: flex-end;width: 50%;}#sk-container-id-2 div.sk-parallel-item:last-child::after {align-self: flex-start;width: 50%;}#sk-container-id-2 div.sk-parallel-item:only-child::after {width: 0;}#sk-container-id-2 div.sk-dashed-wrapped {border: 1px dashed gray;margin: 0 0.4em 0.5em 0.4em;box-sizing: border-box;padding-bottom: 0.4em;background-color: white;}#sk-container-id-2 div.sk-label label {font-family: monospace;font-weight: bold;display: inline-block;line-height: 1.2em;}#sk-container-id-2 div.sk-label-container {text-align: center;}#sk-container-id-2 div.sk-container {/* jupyter's `normalize.less` sets `[hidden] { display: none; }` but bootstrap.min.css set `[hidden] { display: none !important; }` so we also need the `!important` here to be able to override the default hidden behavior on the sphinx rendered scikit-learn.org. See: https://github.com/scikit-learn/scikit-learn/issues/21755 */display: inline-block !important;position: relative;}#sk-container-id-2 div.sk-text-repr-fallback {display: none;}</style><div id=\"sk-container-id-2\" class=\"sk-top-container\"><div class=\"sk-text-repr-fallback\"><pre>SVC(C=1)</pre><b>In a Jupyter environment, please rerun this cell to show the HTML representation or trust the notebook. <br />On GitHub, the HTML representation is unable to render, please try loading this page with nbviewer.org.</b></div><div class=\"sk-container\" hidden><div class=\"sk-item\"><div class=\"sk-estimator sk-toggleable\"><input class=\"sk-toggleable__control sk-hidden--visually\" id=\"sk-estimator-id-2\" type=\"checkbox\" checked><label for=\"sk-estimator-id-2\" class=\"sk-toggleable__label sk-toggleable__label-arrow\">SVC</label><div class=\"sk-toggleable__content\"><pre>SVC(C=1)</pre></div></div></div></div></div>"
            ],
            "text/plain": [
              "SVC(C=1)"
            ]
          },
          "execution_count": 11,
          "metadata": {},
          "output_type": "execute_result"
        }
      ],
      "source": [
        "# Preparação do modelo com TODO o dataset\n",
        "scaler = StandardScaler().fit(X) # ajuste do scaler com TODO o dataset\n",
        "rescaledX = scaler.transform(X) # aplicação da padronização com TODO o dataset\n",
        "model.fit(rescaledX, y)"
      ]
    },
    {
      "cell_type": "markdown",
      "metadata": {
        "id": "xZ-FQWZj_OtQ"
      },
      "source": [
        "## Simulando a aplicação do modelo em dados não vistos"
      ]
    },
    {
      "cell_type": "code",
      "execution_count": 12,
      "metadata": {
        "colab": {
          "base_uri": "https://localhost:8080/"
        },
        "id": "JAIp6d9w5QG8",
        "outputId": "01bf3190-fb17-4430-d0a1-81fce64401bf"
      },
      "outputs": [
        {
          "name": "stdout",
          "output_type": "stream",
          "text": [
            "[[-0.79499004  1.02637608  0.69879271 -1.38325689 -2.38651515 -1.72970226\n",
            "   2.15390274  0.88771624 -0.28268715]\n",
            " [ 0.17771919 -1.93030964 -1.75197316  0.73741068 -2.38651515  0.57813418\n",
            "  -0.15940294 -1.16182298 -0.28268715]\n",
            " [ 2.12313766 -1.93030964 -2.9773561   1.58567771  0.41902102  0.57813418\n",
            "  -0.15940294 -1.16182298  3.53747954]]\n"
          ]
        }
      ],
      "source": [
        "# Novos dados\n",
        "\n",
        "data = {'wifeAge':  [26, 34, 50],\n",
        "        'wifeEducation': [4, 1, 1],\n",
        "        'husbandEducation': [4, 2, 1],\n",
        "        'numberOfChildrenEverBorn': [0, 5, 7],\n",
        "        'wifeReligion': [0, 0, 1],\n",
        "        'wifeNowWorking': [0, 1, 1],\n",
        "        'husbandOcupation': [4, 2, 2],\n",
        "        'standardOfLivingIndex': [4, 2, 2],\n",
        "        'mediaExposure': [0, 0, 1],\n",
        "        }\n",
        "\n",
        "atributos = ['wifeAge', 'wifeEducation', 'husbandEducation','numberOfChildrenEverBorn',\n",
        "'wifeReligion', 'wifeNowWorking', 'husbandOcupation','standardOfLivingIndex',\n",
        "'mediaExposure']\n",
        "entrada = pd.DataFrame(data, columns=atributos)\n",
        "\n",
        "array_entrada = entrada.values\n",
        "X_entrada = array_entrada[:,0:9].astype(float)\n",
        "\n",
        "# Padronização nos dados de entrada usando o scaler utilizado em X\n",
        "rescaledEntradaX = scaler.transform(X_entrada)\n",
        "print(rescaledEntradaX)"
      ]
    },
    {
      "cell_type": "code",
      "execution_count": 13,
      "metadata": {
        "colab": {
          "base_uri": "https://localhost:8080/"
        },
        "id": "nQf_VFWy5Qsm",
        "outputId": "bd4b1066-c734-4703-8f7f-b10d3c7dd788"
      },
      "outputs": [
        {
          "name": "stdout",
          "output_type": "stream",
          "text": [
            "[1 3 1]\n"
          ]
        }
      ],
      "source": [
        "# Predição de classes dos dados de entrada\n",
        "saidas = model.predict(rescaledEntradaX)\n",
        "print(saidas)"
      ]
    },
    {
      "cell_type": "code",
      "execution_count": 15,
      "metadata": {
        "id": "iQ9gXH_MvQ3m"
      },
      "outputs": [],
      "source": [
        "# Exportação do modelo treinado\n",
        "\n",
        "pickle_out = open(\"modelo_treinado.pkl\", \"wb\")\n",
        "pickle.dump(model, pickle_out)\n",
        "pickle_out.close()\n"
      ]
    },
    {
      "cell_type": "code",
      "execution_count": 17,
      "metadata": {
        "colab": {
          "base_uri": "https://localhost:8080/"
        },
        "id": "U3g3f3RGzEJL",
        "outputId": "65f96211-dda4-48a5-83cf-ae9c61a8946a"
      },
      "outputs": [
        {
          "name": "stdout",
          "output_type": "stream",
          "text": [
            "[1 3 1]\n"
          ]
        }
      ],
      "source": [
        "# Usando a inferencia do modelo a partir do arquivo\n",
        "\n",
        "pickle_in = open(\"modelo_treinado.pkl\", \"rb\")\n",
        "modelo2 = pickle.load(pickle_in)\n",
        "pickle_in.close()\n",
        "\n",
        "saidas = modelo2.predict(rescaledEntradaX)\n",
        "print(saidas)"
      ]
    },
    {
      "cell_type": "markdown",
      "metadata": {
        "id": "-8rt0fxX9ul8"
      },
      "source": [
        "Neste estudo, realizamos uma otimização de hiperparâmetros para um modelo SVM (Support Vector Machine) em três cenários distintos de pré-processamento de dados: original, padronizado e normalizado. O objetivo foi encontrar a melhor configuração para maximizar a acurácia na previsão do método contraceptivo escolhido por mulheres casadas, com base em suas características demográficas e socioeconômicas.\n",
        "\n",
        "Modelo Selecionado:\n",
        "\n",
        "O modelo SVM com padronização dos dados (svm-padr) demonstrou a melhor performance, alcançando uma acurácia de 55.5% no conjunto de validação.\n",
        "Hiperparâmetros ótimos: C=1, kernel='rbf', gamma='scale'.\n",
        "\n",
        "Pontos de Atenção:\n",
        "\n",
        "Embora a acurácia tenha melhorado com a padronização, é importante considerar outras métricas de avaliação, como precisão, recall e F1-score, para obter uma visão mais completa do desempenho do modelo.\n",
        "\n",
        "Conclusão:\n",
        "\n",
        "Uma acurácia de 55% pode indicar um desempenho moderado, mas é essencial considerar o contexto do problema, métricas adicionais e a aplicação prática do modelo para determinar se ele atende aos requisitos específicos."
      ]
    }
  ],
  "metadata": {
    "colab": {
      "include_colab_link": true,
      "provenance": []
    },
    "kernelspec": {
      "display_name": "Python 3",
      "name": "python3"
    }
  },
  "nbformat": 4,
  "nbformat_minor": 0
}
